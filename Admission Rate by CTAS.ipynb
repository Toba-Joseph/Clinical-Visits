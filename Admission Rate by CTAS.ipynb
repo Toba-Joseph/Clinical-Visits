{
 "cells": [
  {
   "cell_type": "code",
   "execution_count": 1,
   "id": "38505cab",
   "metadata": {},
   "outputs": [],
   "source": [
    "import pandas as pd\n",
    "import matplotlib.pyplot as plt\n",
    "import seaborn as sns\n",
    "%matplotlib inline \n",
    "import warnings\n",
    "warnings.filterwarnings('ignore')"
   ]
  },
  {
   "cell_type": "code",
   "execution_count": 2,
   "id": "65790174",
   "metadata": {},
   "outputs": [],
   "source": [
    "mydata_old = pd.read_csv(\"C:\\\\Users\\\\oakin\\\\Documents\\\\Clincal Volumes\\\\Clinical Data to Python.csv\")"
   ]
  },
  {
   "cell_type": "code",
   "execution_count": 3,
   "id": "9fb7da2d",
   "metadata": {},
   "outputs": [],
   "source": [
    "mydata_old.columns = ['Week of Triage_DT', 'AdmitCount','TotalVisits','TriageLevel']\n",
    "mydata = mydata_old.drop(0)"
   ]
  },
  {
   "cell_type": "code",
   "execution_count": 4,
   "id": "a57432f9",
   "metadata": {},
   "outputs": [
    {
     "data": {
      "text/html": [
       "<div>\n",
       "<style scoped>\n",
       "    .dataframe tbody tr th:only-of-type {\n",
       "        vertical-align: middle;\n",
       "    }\n",
       "\n",
       "    .dataframe tbody tr th {\n",
       "        vertical-align: top;\n",
       "    }\n",
       "\n",
       "    .dataframe thead th {\n",
       "        text-align: right;\n",
       "    }\n",
       "</style>\n",
       "<table border=\"1\" class=\"dataframe\">\n",
       "  <thead>\n",
       "    <tr style=\"text-align: right;\">\n",
       "      <th></th>\n",
       "      <th>Week of Triage_DT</th>\n",
       "      <th>AdmitCount</th>\n",
       "      <th>TotalVisits</th>\n",
       "      <th>TriageLevel</th>\n",
       "    </tr>\n",
       "  </thead>\n",
       "  <tbody>\n",
       "    <tr>\n",
       "      <th>1</th>\n",
       "      <td>27-Mar-22</td>\n",
       "      <td>2</td>\n",
       "      <td>2</td>\n",
       "      <td>CTAS-1</td>\n",
       "    </tr>\n",
       "    <tr>\n",
       "      <th>2</th>\n",
       "      <td>03-Apr-22</td>\n",
       "      <td>13</td>\n",
       "      <td>19</td>\n",
       "      <td>CTAS-1</td>\n",
       "    </tr>\n",
       "    <tr>\n",
       "      <th>3</th>\n",
       "      <td>10-Apr-22</td>\n",
       "      <td>20</td>\n",
       "      <td>20</td>\n",
       "      <td>CTAS-1</td>\n",
       "    </tr>\n",
       "    <tr>\n",
       "      <th>4</th>\n",
       "      <td>17-Apr-22</td>\n",
       "      <td>18</td>\n",
       "      <td>24</td>\n",
       "      <td>CTAS-1</td>\n",
       "    </tr>\n",
       "    <tr>\n",
       "      <th>5</th>\n",
       "      <td>24-Apr-22</td>\n",
       "      <td>21</td>\n",
       "      <td>22</td>\n",
       "      <td>CTAS-1</td>\n",
       "    </tr>\n",
       "  </tbody>\n",
       "</table>\n",
       "</div>"
      ],
      "text/plain": [
       "  Week of Triage_DT AdmitCount TotalVisits TriageLevel\n",
       "1         27-Mar-22          2           2      CTAS-1\n",
       "2         03-Apr-22         13          19      CTAS-1\n",
       "3         10-Apr-22         20          20      CTAS-1\n",
       "4         17-Apr-22         18          24      CTAS-1\n",
       "5         24-Apr-22         21          22      CTAS-1"
      ]
     },
     "execution_count": 4,
     "metadata": {},
     "output_type": "execute_result"
    }
   ],
   "source": [
    "mydata.head()"
   ]
  },
  {
   "cell_type": "code",
   "execution_count": 5,
   "id": "2c099096",
   "metadata": {},
   "outputs": [
    {
     "data": {
      "text/plain": [
       "array(['CTAS-1', 'CTAS-2', 'CTAS-3', 'CTAS-4', 'CTAS-5'], dtype=object)"
      ]
     },
     "execution_count": 5,
     "metadata": {},
     "output_type": "execute_result"
    }
   ],
   "source": [
    "mydata['TriageLevel'].unique()"
   ]
  },
  {
   "cell_type": "code",
   "execution_count": 6,
   "id": "a14ffe7a",
   "metadata": {},
   "outputs": [
    {
     "name": "stdout",
     "output_type": "stream",
     "text": [
      "<class 'pandas.core.frame.DataFrame'>\n",
      "RangeIndex: 135 entries, 1 to 135\n",
      "Data columns (total 4 columns):\n",
      " #   Column             Non-Null Count  Dtype \n",
      "---  ------             --------------  ----- \n",
      " 0   Week of Triage_DT  135 non-null    object\n",
      " 1   AdmitCount         135 non-null    int32 \n",
      " 2   TotalVisits        135 non-null    int32 \n",
      " 3   TriageLevel        135 non-null    object\n",
      "dtypes: int32(2), object(2)\n",
      "memory usage: 3.3+ KB\n"
     ]
    }
   ],
   "source": [
    "mydata['TotalVisits']= mydata['TotalVisits'].astype(int)\n",
    "mydata['AdmitCount']= mydata['AdmitCount'].astype(int)\n",
    "mydata.info()"
   ]
  },
  {
   "cell_type": "code",
   "execution_count": 7,
   "id": "025204fa",
   "metadata": {},
   "outputs": [
    {
     "data": {
      "text/html": [
       "<div>\n",
       "<style scoped>\n",
       "    .dataframe tbody tr th:only-of-type {\n",
       "        vertical-align: middle;\n",
       "    }\n",
       "\n",
       "    .dataframe tbody tr th {\n",
       "        vertical-align: top;\n",
       "    }\n",
       "\n",
       "    .dataframe thead th {\n",
       "        text-align: right;\n",
       "    }\n",
       "</style>\n",
       "<table border=\"1\" class=\"dataframe\">\n",
       "  <thead>\n",
       "    <tr style=\"text-align: right;\">\n",
       "      <th></th>\n",
       "      <th>Week of Triage_DT</th>\n",
       "      <th>AdmitCount</th>\n",
       "      <th>TotalVisits</th>\n",
       "      <th>TriageLevel</th>\n",
       "      <th>AdmitRate</th>\n",
       "    </tr>\n",
       "  </thead>\n",
       "  <tbody>\n",
       "    <tr>\n",
       "      <th>1</th>\n",
       "      <td>27-Mar-22</td>\n",
       "      <td>2</td>\n",
       "      <td>2</td>\n",
       "      <td>CTAS-1</td>\n",
       "      <td>100.000000</td>\n",
       "    </tr>\n",
       "    <tr>\n",
       "      <th>2</th>\n",
       "      <td>03-Apr-22</td>\n",
       "      <td>13</td>\n",
       "      <td>19</td>\n",
       "      <td>CTAS-1</td>\n",
       "      <td>68.421053</td>\n",
       "    </tr>\n",
       "    <tr>\n",
       "      <th>3</th>\n",
       "      <td>10-Apr-22</td>\n",
       "      <td>20</td>\n",
       "      <td>20</td>\n",
       "      <td>CTAS-1</td>\n",
       "      <td>100.000000</td>\n",
       "    </tr>\n",
       "    <tr>\n",
       "      <th>4</th>\n",
       "      <td>17-Apr-22</td>\n",
       "      <td>18</td>\n",
       "      <td>24</td>\n",
       "      <td>CTAS-1</td>\n",
       "      <td>75.000000</td>\n",
       "    </tr>\n",
       "    <tr>\n",
       "      <th>5</th>\n",
       "      <td>24-Apr-22</td>\n",
       "      <td>21</td>\n",
       "      <td>22</td>\n",
       "      <td>CTAS-1</td>\n",
       "      <td>95.454545</td>\n",
       "    </tr>\n",
       "  </tbody>\n",
       "</table>\n",
       "</div>"
      ],
      "text/plain": [
       "  Week of Triage_DT  AdmitCount  TotalVisits TriageLevel   AdmitRate\n",
       "1         27-Mar-22           2            2      CTAS-1  100.000000\n",
       "2         03-Apr-22          13           19      CTAS-1   68.421053\n",
       "3         10-Apr-22          20           20      CTAS-1  100.000000\n",
       "4         17-Apr-22          18           24      CTAS-1   75.000000\n",
       "5         24-Apr-22          21           22      CTAS-1   95.454545"
      ]
     },
     "execution_count": 7,
     "metadata": {},
     "output_type": "execute_result"
    }
   ],
   "source": [
    "mydata['AdmitRate'] = 100*mydata['AdmitCount']/mydata['TotalVisits']\n",
    "mydata.head()"
   ]
  },
  {
   "cell_type": "code",
   "execution_count": 8,
   "id": "39592501",
   "metadata": {},
   "outputs": [
    {
     "name": "stdout",
     "output_type": "stream",
     "text": [
      "<class 'pandas.core.frame.DataFrame'>\n",
      "RangeIndex: 135 entries, 1 to 135\n",
      "Data columns (total 6 columns):\n",
      " #   Column             Non-Null Count  Dtype  \n",
      "---  ------             --------------  -----  \n",
      " 0   Week of Triage_DT  135 non-null    object \n",
      " 1   AdmitCount         135 non-null    int32  \n",
      " 2   TotalVisits        135 non-null    int32  \n",
      " 3   TriageLevel        135 non-null    object \n",
      " 4   AdmitRate          135 non-null    float64\n",
      " 5   CTASIndex          135 non-null    int32  \n",
      "dtypes: float64(1), int32(3), object(2)\n",
      "memory usage: 4.9+ KB\n"
     ]
    }
   ],
   "source": [
    "mydata['CTASIndex'] = mydata.TriageLevel\n",
    "for i in range(1,len(mydata.TriageLevel)+1):\n",
    "    mydata.CTASIndex[i] = mydata.TriageLevel[i][-1]\n",
    "mydata['CTASIndex']= mydata['CTASIndex'].astype(int)\n",
    "mydata.info()"
   ]
  },
  {
   "cell_type": "code",
   "execution_count": 9,
   "id": "e52a1b85",
   "metadata": {
    "scrolled": false
   },
   "outputs": [
    {
     "data": {
      "text/html": [
       "<div>\n",
       "<style scoped>\n",
       "    .dataframe tbody tr th:only-of-type {\n",
       "        vertical-align: middle;\n",
       "    }\n",
       "\n",
       "    .dataframe tbody tr th {\n",
       "        vertical-align: top;\n",
       "    }\n",
       "\n",
       "    .dataframe thead th {\n",
       "        text-align: right;\n",
       "    }\n",
       "</style>\n",
       "<table border=\"1\" class=\"dataframe\">\n",
       "  <thead>\n",
       "    <tr style=\"text-align: right;\">\n",
       "      <th></th>\n",
       "      <th>AdmitRate</th>\n",
       "      <th>CTASIndex</th>\n",
       "    </tr>\n",
       "  </thead>\n",
       "  <tbody>\n",
       "    <tr>\n",
       "      <th>AdmitRate</th>\n",
       "      <td>1.000000</td>\n",
       "      <td>-0.833046</td>\n",
       "    </tr>\n",
       "    <tr>\n",
       "      <th>CTASIndex</th>\n",
       "      <td>-0.833046</td>\n",
       "      <td>1.000000</td>\n",
       "    </tr>\n",
       "  </tbody>\n",
       "</table>\n",
       "</div>"
      ],
      "text/plain": [
       "           AdmitRate  CTASIndex\n",
       "AdmitRate   1.000000  -0.833046\n",
       "CTASIndex  -0.833046   1.000000"
      ]
     },
     "execution_count": 9,
     "metadata": {},
     "output_type": "execute_result"
    }
   ],
   "source": [
    "mydata2 = pd.DataFrame(mydata, columns=['AdmitRate', 'CTASIndex'])\n",
    "mydata2.corr()"
   ]
  },
  {
   "cell_type": "code",
   "execution_count": 10,
   "id": "9f83dba2",
   "metadata": {
    "scrolled": true
   },
   "outputs": [
    {
     "data": {
      "text/html": [
       "<div>\n",
       "<style scoped>\n",
       "    .dataframe tbody tr th:only-of-type {\n",
       "        vertical-align: middle;\n",
       "    }\n",
       "\n",
       "    .dataframe tbody tr th {\n",
       "        vertical-align: top;\n",
       "    }\n",
       "\n",
       "    .dataframe thead th {\n",
       "        text-align: right;\n",
       "    }\n",
       "</style>\n",
       "<table border=\"1\" class=\"dataframe\">\n",
       "  <thead>\n",
       "    <tr style=\"text-align: right;\">\n",
       "      <th></th>\n",
       "      <th>Week of Triage_DT</th>\n",
       "      <th>AdmitCount</th>\n",
       "      <th>TotalVisits</th>\n",
       "      <th>TriageLevel</th>\n",
       "      <th>AdmitRate</th>\n",
       "      <th>CTASIndex</th>\n",
       "    </tr>\n",
       "  </thead>\n",
       "  <tbody>\n",
       "    <tr>\n",
       "      <th>1</th>\n",
       "      <td>27-Mar-22</td>\n",
       "      <td>2</td>\n",
       "      <td>2</td>\n",
       "      <td>CTAS-1</td>\n",
       "      <td>100.000000</td>\n",
       "      <td>1</td>\n",
       "    </tr>\n",
       "    <tr>\n",
       "      <th>2</th>\n",
       "      <td>03-Apr-22</td>\n",
       "      <td>13</td>\n",
       "      <td>19</td>\n",
       "      <td>CTAS-1</td>\n",
       "      <td>68.421053</td>\n",
       "      <td>1</td>\n",
       "    </tr>\n",
       "    <tr>\n",
       "      <th>3</th>\n",
       "      <td>10-Apr-22</td>\n",
       "      <td>20</td>\n",
       "      <td>20</td>\n",
       "      <td>CTAS-1</td>\n",
       "      <td>100.000000</td>\n",
       "      <td>1</td>\n",
       "    </tr>\n",
       "    <tr>\n",
       "      <th>4</th>\n",
       "      <td>17-Apr-22</td>\n",
       "      <td>18</td>\n",
       "      <td>24</td>\n",
       "      <td>CTAS-1</td>\n",
       "      <td>75.000000</td>\n",
       "      <td>1</td>\n",
       "    </tr>\n",
       "    <tr>\n",
       "      <th>5</th>\n",
       "      <td>24-Apr-22</td>\n",
       "      <td>21</td>\n",
       "      <td>22</td>\n",
       "      <td>CTAS-1</td>\n",
       "      <td>95.454545</td>\n",
       "      <td>1</td>\n",
       "    </tr>\n",
       "  </tbody>\n",
       "</table>\n",
       "</div>"
      ],
      "text/plain": [
       "  Week of Triage_DT  AdmitCount  TotalVisits TriageLevel   AdmitRate  \\\n",
       "1         27-Mar-22           2            2      CTAS-1  100.000000   \n",
       "2         03-Apr-22          13           19      CTAS-1   68.421053   \n",
       "3         10-Apr-22          20           20      CTAS-1  100.000000   \n",
       "4         17-Apr-22          18           24      CTAS-1   75.000000   \n",
       "5         24-Apr-22          21           22      CTAS-1   95.454545   \n",
       "\n",
       "   CTASIndex  \n",
       "1          1  \n",
       "2          1  \n",
       "3          1  \n",
       "4          1  \n",
       "5          1  "
      ]
     },
     "execution_count": 10,
     "metadata": {},
     "output_type": "execute_result"
    }
   ],
   "source": [
    "mydata.head()"
   ]
  },
  {
   "cell_type": "code",
   "execution_count": 11,
   "id": "ec3d036d",
   "metadata": {
    "scrolled": true
   },
   "outputs": [
    {
     "data": {
      "image/png": "[encoded data removed]",
      "text/plain": [
       "<Figure size 1080x1080 with 6 Axes>"
      ]
     },
     "metadata": {
      "needs_background": "light"
     },
     "output_type": "display_data"
    }
   ],
   "source": [
    "f, axes = plt.subplots(3,2, figsize = (15,15))\n",
    "\n",
    "x= {'1':0,'2':0,'3':1,'4':1,'5':2}\n",
    "\n",
    "for i in  range(1,len(mydata['TriageLevel'].unique())+1): \n",
    "    if i%2 == 0:\n",
    "        y = 1\n",
    "    else:\n",
    "        y = 0\n",
    "    k = sns.kdeplot(mydata[mydata.CTASIndex==i].TotalVisits, mydata[mydata.CTASIndex==i].AdmitRate, shade = True,shade_lowest = False, cmap = 'Reds', ax = axes[x[str(i)],y])\n",
    "    k.set_xlim(0,1000)\n",
    "    k.set_ylim(0,100)\n",
    "    k.set_title('CTAS-'+str(i))\n"
   ]
  },
  {
   "cell_type": "code",
   "execution_count": 50,
   "id": "0c42528b",
   "metadata": {
    "scrolled": false
   },
   "outputs": [
    {
     "data": {
      "text/plain": [
       "(0.0, 100.0)"
      ]
     },
     "execution_count": 50,
     "metadata": {},
     "output_type": "execute_result"
    },
    {
     "data": {
      "image/png": "[encoded data removed]",
      "text/plain": [
       "<Figure size 720x720 with 1 Axes>"
      ]
     },
     "metadata": {
      "needs_background": "light"
     },
     "output_type": "display_data"
    }
   ],
   "source": [
    "fig, ax = plt.subplots(figsize=(10, 10))\n",
    "k = sns.kdeplot(x=mydata.TotalVisits, y=mydata.AdmitRate,shade = True,shade_lowest = False, hue = mydata.TriageLevel)\n",
    "k.set_xlim(0,1000)\n",
    "k.set_ylim(0,100)\n",
    "\n"
   ]
  },
  {
   "cell_type": "code",
   "execution_count": 54,
   "id": "4501d084",
   "metadata": {},
   "outputs": [
    {
     "data": {
      "text/html": [
       "<div>\n",
       "<style scoped>\n",
       "    .dataframe tbody tr th:only-of-type {\n",
       "        vertical-align: middle;\n",
       "    }\n",
       "\n",
       "    .dataframe tbody tr th {\n",
       "        vertical-align: top;\n",
       "    }\n",
       "\n",
       "    .dataframe thead th {\n",
       "        text-align: right;\n",
       "    }\n",
       "</style>\n",
       "<table border=\"1\" class=\"dataframe\">\n",
       "  <thead>\n",
       "    <tr style=\"text-align: right;\">\n",
       "      <th></th>\n",
       "      <th>Unnamed: 0</th>\n",
       "      <th>CTAS-4</th>\n",
       "      <th>CTAS-5</th>\n",
       "      <th>CTAS- 4&amp;5</th>\n",
       "      <th>2016 Population</th>\n",
       "      <th>2021 Population</th>\n",
       "      <th>Intraprovincial migrants</th>\n",
       "      <th>Interprovincial migrants</th>\n",
       "      <th>External migrants</th>\n",
       "      <th>Total Migrants</th>\n",
       "    </tr>\n",
       "  </thead>\n",
       "  <tbody>\n",
       "    <tr>\n",
       "      <th>0</th>\n",
       "      <td>CTAS-4</td>\n",
       "      <td>1.000000</td>\n",
       "      <td>NaN</td>\n",
       "      <td>NaN</td>\n",
       "      <td>NaN</td>\n",
       "      <td>NaN</td>\n",
       "      <td>NaN</td>\n",
       "      <td>NaN</td>\n",
       "      <td>NaN</td>\n",
       "      <td>NaN</td>\n",
       "    </tr>\n",
       "    <tr>\n",
       "      <th>1</th>\n",
       "      <td>CTAS-5</td>\n",
       "      <td>0.995344</td>\n",
       "      <td>1.000000</td>\n",
       "      <td>NaN</td>\n",
       "      <td>NaN</td>\n",
       "      <td>NaN</td>\n",
       "      <td>NaN</td>\n",
       "      <td>NaN</td>\n",
       "      <td>NaN</td>\n",
       "      <td>NaN</td>\n",
       "    </tr>\n",
       "    <tr>\n",
       "      <th>2</th>\n",
       "      <td>CTAS- 4&amp;5</td>\n",
       "      <td>0.999739</td>\n",
       "      <td>0.997286</td>\n",
       "      <td>1.000000</td>\n",
       "      <td>NaN</td>\n",
       "      <td>NaN</td>\n",
       "      <td>NaN</td>\n",
       "      <td>NaN</td>\n",
       "      <td>NaN</td>\n",
       "      <td>NaN</td>\n",
       "    </tr>\n",
       "    <tr>\n",
       "      <th>3</th>\n",
       "      <td>2016 Population</td>\n",
       "      <td>0.986162</td>\n",
       "      <td>0.988783</td>\n",
       "      <td>0.987613</td>\n",
       "      <td>1.000000</td>\n",
       "      <td>NaN</td>\n",
       "      <td>NaN</td>\n",
       "      <td>NaN</td>\n",
       "      <td>NaN</td>\n",
       "      <td>NaN</td>\n",
       "    </tr>\n",
       "    <tr>\n",
       "      <th>4</th>\n",
       "      <td>2021 Population</td>\n",
       "      <td>0.988672</td>\n",
       "      <td>0.986382</td>\n",
       "      <td>0.988962</td>\n",
       "      <td>0.998333</td>\n",
       "      <td>1.000000</td>\n",
       "      <td>NaN</td>\n",
       "      <td>NaN</td>\n",
       "      <td>NaN</td>\n",
       "      <td>NaN</td>\n",
       "    </tr>\n",
       "    <tr>\n",
       "      <th>5</th>\n",
       "      <td>Intraprovincial migrants</td>\n",
       "      <td>0.984625</td>\n",
       "      <td>0.973507</td>\n",
       "      <td>0.982820</td>\n",
       "      <td>0.963371</td>\n",
       "      <td>0.973681</td>\n",
       "      <td>1.000000</td>\n",
       "      <td>NaN</td>\n",
       "      <td>NaN</td>\n",
       "      <td>NaN</td>\n",
       "    </tr>\n",
       "    <tr>\n",
       "      <th>6</th>\n",
       "      <td>Interprovincial migrants</td>\n",
       "      <td>0.993970</td>\n",
       "      <td>0.989637</td>\n",
       "      <td>0.993781</td>\n",
       "      <td>0.989298</td>\n",
       "      <td>0.993998</td>\n",
       "      <td>0.992144</td>\n",
       "      <td>1.000000</td>\n",
       "      <td>NaN</td>\n",
       "      <td>NaN</td>\n",
       "    </tr>\n",
       "    <tr>\n",
       "      <th>7</th>\n",
       "      <td>External migrants</td>\n",
       "      <td>0.971296</td>\n",
       "      <td>0.955897</td>\n",
       "      <td>0.968465</td>\n",
       "      <td>0.949645</td>\n",
       "      <td>0.963510</td>\n",
       "      <td>0.997501</td>\n",
       "      <td>0.984417</td>\n",
       "      <td>1.000000</td>\n",
       "      <td>NaN</td>\n",
       "    </tr>\n",
       "    <tr>\n",
       "      <th>8</th>\n",
       "      <td>Total Migrants</td>\n",
       "      <td>0.981600</td>\n",
       "      <td>0.969374</td>\n",
       "      <td>0.979530</td>\n",
       "      <td>0.961368</td>\n",
       "      <td>0.972601</td>\n",
       "      <td>0.999758</td>\n",
       "      <td>0.991092</td>\n",
       "      <td>0.998727</td>\n",
       "      <td>1.0</td>\n",
       "    </tr>\n",
       "  </tbody>\n",
       "</table>\n",
       "</div>"
      ],
      "text/plain": [
       "                 Unnamed: 0    CTAS-4    CTAS-5  CTAS- 4&5  2016 Population  \\\n",
       "0                    CTAS-4  1.000000       NaN        NaN              NaN   \n",
       "1                    CTAS-5  0.995344  1.000000        NaN              NaN   \n",
       "2                 CTAS- 4&5  0.999739  0.997286   1.000000              NaN   \n",
       "3           2016 Population  0.986162  0.988783   0.987613         1.000000   \n",
       "4           2021 Population  0.988672  0.986382   0.988962         0.998333   \n",
       "5  Intraprovincial migrants  0.984625  0.973507   0.982820         0.963371   \n",
       "6  Interprovincial migrants  0.993970  0.989637   0.993781         0.989298   \n",
       "7         External migrants  0.971296  0.955897   0.968465         0.949645   \n",
       "8           Total Migrants   0.981600  0.969374   0.979530         0.961368   \n",
       "\n",
       "   2021 Population  Intraprovincial migrants  Interprovincial migrants  \\\n",
       "0              NaN                       NaN                       NaN   \n",
       "1              NaN                       NaN                       NaN   \n",
       "2              NaN                       NaN                       NaN   \n",
       "3              NaN                       NaN                       NaN   \n",
       "4         1.000000                       NaN                       NaN   \n",
       "5         0.973681                  1.000000                       NaN   \n",
       "6         0.993998                  0.992144                  1.000000   \n",
       "7         0.963510                  0.997501                  0.984417   \n",
       "8         0.972601                  0.999758                  0.991092   \n",
       "\n",
       "   External migrants  Total Migrants   \n",
       "0                NaN              NaN  \n",
       "1                NaN              NaN  \n",
       "2                NaN              NaN  \n",
       "3                NaN              NaN  \n",
       "4                NaN              NaN  \n",
       "5                NaN              NaN  \n",
       "6                NaN              NaN  \n",
       "7           1.000000              NaN  \n",
       "8           0.998727              1.0  "
      ]
     },
     "execution_count": 54,
     "metadata": {},
     "output_type": "execute_result"
    }
   ],
   "source": [
    "newdata= pd.read_csv('Book2.csv')\n",
    "\n",
    "newdata.head(10)"
   ]
  },
  {
   "cell_type": "code",
   "execution_count": 70,
   "id": "50e2ada9",
   "metadata": {},
   "outputs": [
    {
     "data": {
      "text/html": [
       "<div>\n",
       "<style scoped>\n",
       "    .dataframe tbody tr th:only-of-type {\n",
       "        vertical-align: middle;\n",
       "    }\n",
       "\n",
       "    .dataframe tbody tr th {\n",
       "        vertical-align: top;\n",
       "    }\n",
       "\n",
       "    .dataframe thead th {\n",
       "        text-align: right;\n",
       "    }\n",
       "</style>\n",
       "<table border=\"1\" class=\"dataframe\">\n",
       "  <thead>\n",
       "    <tr style=\"text-align: right;\">\n",
       "      <th></th>\n",
       "      <th>CTAS-4</th>\n",
       "      <th>CTAS-5</th>\n",
       "      <th>CTAS- 4&amp;5</th>\n",
       "      <th>2016 Population</th>\n",
       "      <th>2021 Population</th>\n",
       "      <th>Intraprovincial migrants</th>\n",
       "      <th>Interprovincial migrants</th>\n",
       "      <th>External migrants</th>\n",
       "      <th>Total Migrants</th>\n",
       "    </tr>\n",
       "    <tr>\n",
       "      <th>Unnamed: 0</th>\n",
       "      <th></th>\n",
       "      <th></th>\n",
       "      <th></th>\n",
       "      <th></th>\n",
       "      <th></th>\n",
       "      <th></th>\n",
       "      <th></th>\n",
       "      <th></th>\n",
       "      <th></th>\n",
       "    </tr>\n",
       "  </thead>\n",
       "  <tbody>\n",
       "    <tr>\n",
       "      <th>CTAS-4</th>\n",
       "      <td>1.000000</td>\n",
       "      <td>NaN</td>\n",
       "      <td>NaN</td>\n",
       "      <td>NaN</td>\n",
       "      <td>NaN</td>\n",
       "      <td>NaN</td>\n",
       "      <td>NaN</td>\n",
       "      <td>NaN</td>\n",
       "      <td>NaN</td>\n",
       "    </tr>\n",
       "    <tr>\n",
       "      <th>CTAS-5</th>\n",
       "      <td>0.995344</td>\n",
       "      <td>1.000000</td>\n",
       "      <td>NaN</td>\n",
       "      <td>NaN</td>\n",
       "      <td>NaN</td>\n",
       "      <td>NaN</td>\n",
       "      <td>NaN</td>\n",
       "      <td>NaN</td>\n",
       "      <td>NaN</td>\n",
       "    </tr>\n",
       "    <tr>\n",
       "      <th>CTAS- 4&amp;5</th>\n",
       "      <td>0.999739</td>\n",
       "      <td>0.997286</td>\n",
       "      <td>1.000000</td>\n",
       "      <td>NaN</td>\n",
       "      <td>NaN</td>\n",
       "      <td>NaN</td>\n",
       "      <td>NaN</td>\n",
       "      <td>NaN</td>\n",
       "      <td>NaN</td>\n",
       "    </tr>\n",
       "    <tr>\n",
       "      <th>2016 Population</th>\n",
       "      <td>0.986162</td>\n",
       "      <td>0.988783</td>\n",
       "      <td>0.987613</td>\n",
       "      <td>1.000000</td>\n",
       "      <td>NaN</td>\n",
       "      <td>NaN</td>\n",
       "      <td>NaN</td>\n",
       "      <td>NaN</td>\n",
       "      <td>NaN</td>\n",
       "    </tr>\n",
       "    <tr>\n",
       "      <th>2021 Population</th>\n",
       "      <td>0.988672</td>\n",
       "      <td>0.986382</td>\n",
       "      <td>0.988962</td>\n",
       "      <td>0.998333</td>\n",
       "      <td>1.0</td>\n",
       "      <td>NaN</td>\n",
       "      <td>NaN</td>\n",
       "      <td>NaN</td>\n",
       "      <td>NaN</td>\n",
       "    </tr>\n",
       "  </tbody>\n",
       "</table>\n",
       "</div>"
      ],
      "text/plain": [
       "                   CTAS-4    CTAS-5  CTAS- 4&5  2016 Population  \\\n",
       "Unnamed: 0                                                        \n",
       "CTAS-4           1.000000       NaN        NaN              NaN   \n",
       "CTAS-5           0.995344  1.000000        NaN              NaN   \n",
       "CTAS- 4&5        0.999739  0.997286   1.000000              NaN   \n",
       "2016 Population  0.986162  0.988783   0.987613         1.000000   \n",
       "2021 Population  0.988672  0.986382   0.988962         0.998333   \n",
       "\n",
       "                 2021 Population  Intraprovincial migrants  \\\n",
       "Unnamed: 0                                                   \n",
       "CTAS-4                       NaN                       NaN   \n",
       "CTAS-5                       NaN                       NaN   \n",
       "CTAS- 4&5                    NaN                       NaN   \n",
       "2016 Population              NaN                       NaN   \n",
       "2021 Population              1.0                       NaN   \n",
       "\n",
       "                 Interprovincial migrants  External migrants  Total Migrants   \n",
       "Unnamed: 0                                                                     \n",
       "CTAS-4                                NaN                NaN              NaN  \n",
       "CTAS-5                                NaN                NaN              NaN  \n",
       "CTAS- 4&5                             NaN                NaN              NaN  \n",
       "2016 Population                       NaN                NaN              NaN  \n",
       "2021 Population                       NaN                NaN              NaN  "
      ]
     },
     "execution_count": 70,
     "metadata": {},
     "output_type": "execute_result"
    }
   ],
   "source": [
    "newdata.index = newdata['Unnamed: 0']\n",
    "newdata = newdata.drop('Unnamed: 0',1)\n",
    "newdata.head()"
   ]
  },
  {
   "cell_type": "code",
   "execution_count": 72,
   "id": "a14eef9a",
   "metadata": {},
   "outputs": [
    {
     "data": {
      "text/plain": [
       "<AxesSubplot:ylabel='Unnamed: 0'>"
      ]
     },
     "execution_count": 72,
     "metadata": {},
     "output_type": "execute_result"
    },
    {
     "data": {
      "image/png": "[encoded data removed]",
      "text/plain": [
       "<Figure size 432x288 with 2 Axes>"
      ]
     },
     "metadata": {
      "needs_background": "light"
     },
     "output_type": "display_data"
    }
   ],
   "source": [
    "sns.heatmap(data=newdata, annot = True)"
   ]
  },
  {
   "cell_type": "code",
   "execution_count": null,
   "id": "3afffdd3",
   "metadata": {},
   "outputs": [],
   "source": [
    "Here is a repo for real-life geospatial analytics I recently completed. https://github.com/Toba-Joseph/Clinical-Visits.\n",
    "\n",
    "It took me 3 weeks to complete this. the major take home is if you are not ready for in-dept research, then data science might not be for you. \n",
    "\n",
    "I thought I would scale through with only power BI, but I later realized I need a bivariate Kernel Density Estimation (KDE) plot and a heatmap to better tell my story. once again, I sought refuge from my new friend \"Jupyter Notebook\"       #datascience "
   ]
  },
  {
   "cell_type": "code",
   "execution_count": null,
   "id": "aacc4c07",
   "metadata": {},
   "outputs": [],
   "source": [
    "Real-life geospatial analytics on clinical visits using Power BI and Python Programming"
   ]
  }
 ],
 "metadata": {
  "kernelspec": {
   "display_name": "Python 3 (ipykernel)",
   "language": "python",
   "name": "python3"
  },
  "language_info": {
   "codemirror_mode": {
    "name": "ipython",
    "version": 3
   },
   "file_extension": ".py",
   "mimetype": "text/x-python",
   "name": "python",
   "nbconvert_exporter": "python",
   "pygments_lexer": "ipython3",
   "version": "3.9.12"
  }
 },
 "nbformat": 4,
 "nbformat_minor": 5
}
